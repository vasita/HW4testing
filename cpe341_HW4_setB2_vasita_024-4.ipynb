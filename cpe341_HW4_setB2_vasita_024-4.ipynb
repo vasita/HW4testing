{
 "cells": [
  {
   "cell_type": "markdown",
   "metadata": {},
   "source": [
    "# CPE-341, Quiz 2/2015 \n",
    "# Question Set B2\n",
    "\n",
    "- Iteration Design Pattern : List, Dictionary\n",
    "- Using Class Coin in a List"
   ]
  },
  {
   "cell_type": "code",
   "execution_count": 1,
   "metadata": {
    "collapsed": false
   },
   "outputs": [
    {
     "data": {
      "text/html": [
       "<style>\n",
       "@import url('http://fonts.googleapis.com/css?family=Crimson+Text');\n",
       "@import url('http://fonts.googleapis.com/css?family=Kameron');\n",
       "@import url('http://fonts.googleapis.com/css?family=Lato:200,300,400');\n",
       "@import url('http://fonts.googleapis.com/css?family=Source+Code+Pro');\n",
       "@import url(https://fonts.googleapis.com/css?family=Droid+Sans);\n",
       "\n",
       ".rendered_html {\n",
       "    font-family: \"Droid Sans\", helvetica;\n",
       "    font-size: 110%;\n",
       "    line-height: 1.3;\n",
       "}\n",
       "\n",
       ".rendered_html h1 {\n",
       "    margin: 0.25em 0em 0.5em;\n",
       "    color: #015C9C;\n",
       "    text-align: center;\n",
       "    line-height: 1.2; \n",
       "    page-break-before: always;\n",
       "}\n",
       "\n",
       ".rendered_html h2 {\n",
       "    margin: 1.1em 0em 0.5em;\n",
       "    color: #26465D;\n",
       "    line-height: 1.2;\n",
       "}\n",
       "\n",
       ".rendered_html h3 {\n",
       "    margin: 1.1em 0em 0.5em;\n",
       "    color: #002845;\n",
       "    line-height: 1.2;\n",
       "}\n",
       "\n",
       ".rendered_html li {\n",
       "    line-height: 1.5; \n",
       "}\n",
       "\n",
       "/*.prompt {\n",
       "    font-size: 120%; \n",
       "}*/\n",
       "\n",
       ".CodeMirror-lines {\n",
       "\tfont-family: 'Source Code Pro', Consolas, monocco, monospace; /* Kittima added*/\n",
       "    font-size: 110%; \n",
       "}\n",
       "\n",
       "/*.output_area {\n",
       "    font-size: 120%; \n",
       "}*/\n",
       "\n",
       "/*#notebook {\n",
       "    background-image: url('files/images/witewall_3.png');\n",
       "}*/\n",
       "\n",
       "h1.bigtitle {\n",
       "    margin: 4cm 1cm 4cm 1cm;\n",
       "    font-size: 300%;\n",
       "}\n",
       "\n",
       "h3.point {\n",
       "    font-size: 200%;\n",
       "    text-align: center;\n",
       "    margin: 2em 0em 2em 0em;\n",
       "    #26465D\n",
       "}\n",
       "\n",
       ".logo {\n",
       "    margin: 20px 0 20px 0;\n",
       "}\n",
       "\n",
       "a.anchor-link {\n",
       "    display: none;\n",
       "}\n",
       "\n",
       "h1.title { \n",
       "    font-size: 250%;\n",
       "}\n",
       "\n",
       "\n",
       "/* Kittima added */\n",
       "div.text_cell_render h1,  \n",
       "div.text_cell_render h2,  \n",
       "div.text_cell_render h3,  \n",
       "div.text_cell_render h4,  \n",
       "div.text_cell_render h5,  \n",
       "div.text_cell_render h6 {  \n",
       "    font-family: 'Droid Sans';\n",
       "}\n",
       "\n",
       "div.text_cell {  \n",
       "    max-width: 105ex; /* instead of 100%, */\n",
       "}\n",
       "\n",
       "code {\n",
       "\t/* background-color : #fffffa !important;  */\n",
       "\tbackground-color : #f5f5f5 !important;\n",
       "}\n",
       "</style>"
      ],
      "text/plain": [
       "<IPython.core.display.HTML object>"
      ]
     },
     "metadata": {},
     "output_type": "display_data"
    }
   ],
   "source": [
    "%reload_ext load_style\n",
    "%load_style talk.css"
   ]
  },
  {
   "cell_type": "code",
   "execution_count": 4,
   "metadata": {
    "collapsed": false
   },
   "outputs": [
    {
     "data": {
      "text/plain": [
       "'2017-02-10T04:04:47.188668'"
      ]
     },
     "execution_count": 4,
     "metadata": {},
     "output_type": "execute_result"
    }
   ],
   "source": [
    "## 57113024-4 :\n",
    "## vasita sreekaew\n",
    "##\n",
    "## คลิก Run cell นี้เพียงครั้งเดียว\n",
    "##\n",
    "##\n",
    "import datetime\n",
    "datetime.datetime.now().isoformat()"
   ]
  },
  {
   "cell_type": "markdown",
   "metadata": {},
   "source": [
    "## Question 1 ( @2 pt x 2 = 4 pts )\n",
    "\n",
    "### Q1.a \n",
    "จงเขียนคำสั่ง เพื่อพิมพ์ค่าตัวเลข ที่ index ที่กำหนดให้ จาก list `bills` ต่อไปนี้ "
   ]
  },
  {
   "cell_type": "code",
   "execution_count": 6,
   "metadata": {
    "collapsed": true
   },
   "outputs": [],
   "source": [
    "## ไม่แก้ไขข้อมูลใน cell นี้\n",
    "\n",
    "bills = [27.69, -130.65, -168.57, -190.32, 38.67, -31.85, -14.7, 92.88]"
   ]
  },
  {
   "cell_type": "code",
   "execution_count": 7,
   "metadata": {
    "collapsed": false
   },
   "outputs": [
    {
     "name": "stdout",
     "output_type": "stream",
     "text": [
      "-31.85\n"
     ]
    }
   ],
   "source": [
    "## ANSWER Q1.a\n",
    "## พิมพ์ค่าตัวเลข ที่ index ที่กำหนดให้\n",
    "##\n",
    "\n",
    "index = 5 \n",
    "print(bills[index])"
   ]
  },
  {
   "cell_type": "markdown",
   "metadata": {},
   "source": [
    "### Q1.b \n",
    "จงเขียนคำสั่ง เพื่อหาผลรวมตัวเลขที่น้อยกว่าศูนย์ ใน **list** `bills` ในข้อ (1.a)"
   ]
  },
  {
   "cell_type": "code",
   "execution_count": 8,
   "metadata": {
    "collapsed": false
   },
   "outputs": [
    {
     "name": "stdout",
     "output_type": "stream",
     "text": [
      "-536.09\n"
     ]
    }
   ],
   "source": [
    "## ANSWER Q1.b\n",
    "## หาผลรวมตัวเลขที่น้อยกว่าศูนย์ ใน bills\n",
    "\n",
    "sum1 = 0\n",
    "\n",
    "for i in bills:\n",
    "    if i<0:\n",
    "        sum1+=i\n",
    "print(sum1)\n",
    "\n"
   ]
  },
  {
   "cell_type": "code",
   "execution_count": null,
   "metadata": {
    "collapsed": false
   },
   "outputs": [],
   "source": []
  },
  {
   "cell_type": "code",
   "execution_count": null,
   "metadata": {
    "collapsed": true
   },
   "outputs": [],
   "source": []
  },
  {
   "cell_type": "markdown",
   "metadata": {},
   "source": [
    "## Question 2 ( @3 pts x 4 = 12 pts )\n",
    "\n",
    "### Q2.a \n",
    "จงสร้าง **list** เพื่อเก็บข้อมูลตัวเลขคู่ -10 ถึง 20  โดยใข้ `range`"
   ]
  },
  {
   "cell_type": "code",
   "execution_count": 9,
   "metadata": {
    "collapsed": false
   },
   "outputs": [
    {
     "name": "stdout",
     "output_type": "stream",
     "text": [
      "[-10, -8, -6, -4, -2, 0, 2, 4, 6, 8, 10, 12, 14, 16, 18, 20]\n"
     ]
    }
   ],
   "source": [
    "## ANSWER Q2.a\n",
    "##\n",
    "##\n",
    "even=[]\n",
    "\n",
    "for i in range(-10,21,2):\n",
    "        even.append(i)\n",
    "\n",
    "print (even)\n",
    "\n",
    "\n",
    "\n"
   ]
  },
  {
   "cell_type": "code",
   "execution_count": null,
   "metadata": {
    "collapsed": true
   },
   "outputs": [],
   "source": []
  },
  {
   "cell_type": "markdown",
   "metadata": {},
   "source": [
    "### Q2.b \n",
    "จงสร้าง **list** เพื่อเก็บตัวเลขสุ่มในช่วง -19 ถึง 19 จำนวน 13 ตัวเลข โดยใข้ฟังก์ชั่น `randint` จากไลบรารี `random`"
   ]
  },
  {
   "cell_type": "code",
   "execution_count": 10,
   "metadata": {
    "collapsed": false
   },
   "outputs": [
    {
     "name": "stdout",
     "output_type": "stream",
     "text": [
      "[-12, 7, -3, -7, -19, 5, 5, -17, -4, -19, 13, -18, 6]\n"
     ]
    }
   ],
   "source": [
    "## ANSWER Q2.b\n",
    "##\n",
    "random=[]\n",
    "\n",
    "from random import randint\n",
    "for i in range(0,13):\n",
    "    j=randint(-19,19)\n",
    "    random.append(j)\n",
    "\n",
    "print(random)"
   ]
  },
  {
   "cell_type": "markdown",
   "metadata": {},
   "source": [
    "### Q2.c \n",
    "จงเขียน `def` ชื่อ `sum_of_square` สำหรับหาผลรวมของ ค่าเฉี่ยของตัวเลขใน `number_list` ที่กำหนดให้  \n",
    "\n",
    "เช่น เมื่อเรียกใช้ `sum_of_square([1,3,5,7,9,11,13,15,17])` จะได้ผลลัพธ์เป็น $1^2  + 3^2 + 5^2 +  ...  + 13^2 + 15^2 + 17^2 $ = 969.0 "
   ]
  },
  {
   "cell_type": "code",
   "execution_count": 11,
   "metadata": {
    "collapsed": true
   },
   "outputs": [],
   "source": [
    "## ANSWER Q2.c\n",
    "##\n",
    "\n",
    "\n",
    "import math\n",
    "a=[]\n",
    "def sum_of_square(number_list):\n",
    "    for i in number_list:\n",
    "        x=math.pow(i,2)\n",
    "        a.append(x)\n",
    "    return  sum(a)\n",
    "\n"
   ]
  },
  {
   "cell_type": "code",
   "execution_count": 12,
   "metadata": {
    "collapsed": false
   },
   "outputs": [
    {
     "name": "stdout",
     "output_type": "stream",
     "text": [
      "[1, 3, 5, 7, 9, 11, 13, 15, 17]\n"
     ]
    },
    {
     "data": {
      "text/plain": [
       "969.0"
      ]
     },
     "execution_count": 12,
     "metadata": {},
     "output_type": "execute_result"
    }
   ],
   "source": [
    "## Test sum_of_square()\n",
    "nums = [i for i in range(1,18,2) ]\n",
    "\n",
    "print(nums)\n",
    "sum_of_square(nums)"
   ]
  },
  {
   "cell_type": "code",
   "execution_count": null,
   "metadata": {
    "collapsed": true
   },
   "outputs": [],
   "source": []
  },
  {
   "cell_type": "code",
   "execution_count": null,
   "metadata": {
    "collapsed": true
   },
   "outputs": [],
   "source": []
  },
  {
   "cell_type": "markdown",
   "metadata": {},
   "source": [
    "### Q2.d \n",
    "จงหา**ค่าเฉลี่ย**ของตัวเลขใน **list** ต่อไปนี้ แล้วเก็บไว้ที่ตัวแปรชื่อ avg โดยใข้ฟังก์ชั่น `sum`, `len` \n",
    "\n",
    "```\n",
    "myTest = [72, 75, 78, 62, 65, 83]\n",
    "```"
   ]
  },
  {
   "cell_type": "code",
   "execution_count": 16,
   "metadata": {
    "collapsed": false
   },
   "outputs": [
    {
     "name": "stdout",
     "output_type": "stream",
     "text": [
      "72.5\n"
     ]
    }
   ],
   "source": [
    "## ANSWER Q2.d\n",
    "##\n",
    "##\n",
    "myTest = [72, 75, 78, 62, 65, 83]\n",
    "\n",
    "avg=sum(myTest)/len(myTest)\n",
    "print(avg)"
   ]
  },
  {
   "cell_type": "code",
   "execution_count": null,
   "metadata": {
    "collapsed": false
   },
   "outputs": [],
   "source": []
  },
  {
   "cell_type": "markdown",
   "metadata": {},
   "source": [
    "## Question 3 ( @6 pts x 2 = 12 pts )\n",
    "\n",
    "### Q3.a \n",
    "กำหนดให้ **dict** `๋EURO_COINS` เก็บค่าเงินของเหรียญยูโร (เงิน €) 8 ชนิด (ใช้ใน คำถาม Q3.b)\n",
    "\n",
    "จงหาจำนวนเหรียญใน list `piggy` ซึ่งเป็นกระปุกเงินเก็บเหรียญ โดยผลลัพธ์เก็บค่าไว้ที่ตัวแปร `count` "
   ]
  },
  {
   "cell_type": "code",
   "execution_count": 26,
   "metadata": {
    "collapsed": false
   },
   "outputs": [],
   "source": [
    "## ไม่แก้ไขข้อมูลใน cell นี้\n",
    "\n",
    "EURO_COINS = {\"1c\" : 0.01, \"2c\" : .02,  \"5c\" : 0.05, \n",
    "              \"10c\": 0.10, \"20c\": 0.20, \"50c\": 0.50,\n",
    "              \"1E\" : 1.00, \"2E\" : 2.00 }\n",
    "\n",
    "## piggy keeps the number of Japanese ¥ coins \n",
    "piggy = { \"1E\":2, \"2c\":8, \"50c\":6, \"20c\":4, \"10c\":3, \"1c\":4, \"2E\":3}"
   ]
  },
  {
   "cell_type": "code",
   "execution_count": 27,
   "metadata": {
    "collapsed": false
   },
   "outputs": [
    {
     "name": "stdout",
     "output_type": "stream",
     "text": [
      "30\n"
     ]
    }
   ],
   "source": [
    "## ANSWER Q3.a\n",
    "##\n",
    "\n",
    "count = 0\n",
    "\n",
    "count=sum(piggy.values())\n",
    "print(count)\n"
   ]
  },
  {
   "cell_type": "code",
   "execution_count": null,
   "metadata": {
    "collapsed": true
   },
   "outputs": [],
   "source": []
  },
  {
   "cell_type": "markdown",
   "metadata": {
    "collapsed": true
   },
   "source": [
    "### Q3.b\n",
    "จงหามูลค่าของเงินทั้งหมดใน list `piggy` (หน่วย: ยูโร)"
   ]
  },
  {
   "cell_type": "code",
   "execution_count": 29,
   "metadata": {
    "collapsed": false
   },
   "outputs": [
    {
     "name": "stdout",
     "output_type": "stream",
     "text": [
      "12.3\n"
     ]
    }
   ],
   "source": [
    "## ANSWER Q3.b\n",
    "##\n",
    "##\n",
    "\n",
    "money = 0\n",
    "for key,lis in piggy.items():\n",
    "    money+= lis * EURO_COINS[key]\n",
    "print(money)\n",
    "\n",
    "\n",
    "\n"
   ]
  },
  {
   "cell_type": "code",
   "execution_count": null,
   "metadata": {
    "collapsed": true
   },
   "outputs": [],
   "source": []
  },
  {
   "cell_type": "code",
   "execution_count": null,
   "metadata": {
    "collapsed": true
   },
   "outputs": [],
   "source": []
  },
  {
   "cell_type": "markdown",
   "metadata": {},
   "source": [
    "## Question 4 ( @6 pts x 2 = 12 pts )\n",
    "\n",
    "### Q4.a \n",
    "จาก class `Coin` ที่กำหนดให้ จงสร้างเหรียญ `Coin` ที่มีค่าเป็นเงิน Euro เก็บไว้ใน list ชื่อ `myCoins` จำนวน 10 เหรียญ ดังนี้\n",
    "\n",
    "- เหรียญแต่ละชนิด 1 เหรียญ (รวม 8 เหรียญ)\n",
    "- 1 cent, 1 เหรียญ\n",
    "- 10 cent, 1 เหรียญ"
   ]
  },
  {
   "cell_type": "code",
   "execution_count": 31,
   "metadata": {
    "collapsed": true
   },
   "outputs": [],
   "source": [
    "## ไม่แก้ไขข้อมูลใน cell นี้\n",
    "\n",
    "class Coin(object):\n",
    "    \n",
    "    def __init__(self, value):\n",
    "        \"\"\" สร้างเหรียญ 1 เหรียญ ซึ่งเก็บค่าเงินไว้ด้วยตัวแปร __value \"\"\"\n",
    "        self.__value = value\n",
    "        \n",
    "    @property\n",
    "    def value(self):\n",
    "        \"\"\" return ค่าเงิน \"\"\"\n",
    "        return self.__value\n",
    "        \n",
    "    def __str__(self):\n",
    "        \"\"\" return ข้อความ str, พร้อมกับค่าเงิน \"\"\"\n",
    "        return ( \"Coin value: {}\".format(self.__vaue) )\n",
    "        "
   ]
  },
  {
   "cell_type": "code",
   "execution_count": 32,
   "metadata": {
    "collapsed": true
   },
   "outputs": [],
   "source": [
    "## ตัวอย่างการสร้างเหรียญ 2 เหรียญ\n",
    "c1 = Coin(0.10)  # 10 Euro cents\n",
    "c2 = Coin(0.01)  # 1 Euro cents"
   ]
  },
  {
   "cell_type": "code",
   "execution_count": 33,
   "metadata": {
    "collapsed": false
   },
   "outputs": [
    {
     "data": {
      "text/plain": [
       "0.1"
      ]
     },
     "execution_count": 33,
     "metadata": {},
     "output_type": "execute_result"
    }
   ],
   "source": [
    "## ตัวอย่างการดูค่าเงินของเหรียญ c1\n",
    "c1.value"
   ]
  },
  {
   "cell_type": "code",
   "execution_count": 34,
   "metadata": {
    "collapsed": false
   },
   "outputs": [
    {
     "name": "stdout",
     "output_type": "stream",
     "text": [
      "Help on class Coin in module __main__:\n",
      "\n",
      "class Coin(builtins.object)\n",
      " |  Methods defined here:\n",
      " |  \n",
      " |  __init__(self, value)\n",
      " |      สร้างเหรียญ 1 เหรียญ ซึ่งเก็บค่าเงินไว้ด้วยตัวแปร __value\n",
      " |  \n",
      " |  __str__(self)\n",
      " |      return ข้อความ str, พร้อมกับค่าเงิน\n",
      " |  \n",
      " |  ----------------------------------------------------------------------\n",
      " |  Data descriptors defined here:\n",
      " |  \n",
      " |  __dict__\n",
      " |      dictionary for instance variables (if defined)\n",
      " |  \n",
      " |  __weakref__\n",
      " |      list of weak references to the object (if defined)\n",
      " |  \n",
      " |  value\n",
      " |      return ค่าเงิน\n",
      "\n"
     ]
    }
   ],
   "source": [
    "help(Coin)"
   ]
  },
  {
   "cell_type": "code",
   "execution_count": 56,
   "metadata": {
    "collapsed": false
   },
   "outputs": [
    {
     "name": "stdout",
     "output_type": "stream",
     "text": [
      "dict_values([2.0, 0.02, 0.01, 0.05, 0.2, 0.1, 1.0, 0.5])\n",
      "Coin count: 10\n"
     ]
    }
   ],
   "source": [
    "## ANSWER Q4.a\n",
    "## สร้างเหรียญ Coin เก็บไว้ใน list ชื่อ myCoins 10 เหรียญ  \n",
    "## ตามข้อกำหนดข้างต้น\n",
    "##\n",
    "\n",
    "# the values of Euro coins in a list\n",
    "coin_values = EURO_COINS.values() \n",
    "print(coin_values)\n",
    "myCoins = []\n",
    "\n",
    "#----- add your code here\n",
    "for i in EURO_COINS:\n",
    "    myCoins.append(EURO_COINS.values())\n",
    "    \n",
    "\n",
    "myCoins.append(c1)\n",
    "myCoins.append(c2)\n",
    "\n",
    "\n",
    "\n",
    "\n",
    "\n",
    "\n",
    "print(\"Coin count: {}\".format( len(myCoins)) )\n",
    "\n",
    "\n"
   ]
  },
  {
   "cell_type": "code",
   "execution_count": null,
   "metadata": {
    "collapsed": false
   },
   "outputs": [],
   "source": []
  },
  {
   "cell_type": "markdown",
   "metadata": {},
   "source": [
    "### Q4.b \n",
    "จงปรับปรุุง def `printSmallCoins` เพื่อพิมพ์มูลค่าเหรียญยูโร เฉพาะที่เป็นเหรียญ cent  (คือ น้อยกว่า 1.00 Euro เท่านั้น) ของเหรียญทั้งหมดที่อยู่ใน list `coin_list`"
   ]
  },
  {
   "cell_type": "code",
   "execution_count": 85,
   "metadata": {
    "collapsed": false
   },
   "outputs": [
    {
     "name": "stdout",
     "output_type": "stream",
     "text": [
      "------- Coins ------\n",
      "Count :  6\n",
      "Value :  0.88\n"
     ]
    }
   ],
   "source": [
    "def printSmallCoins( coin_list ):\n",
    "    count = 0\n",
    "    total_amount = 0.0\n",
    "    \n",
    "    #---- add your code here\n",
    "    \n",
    "    xyz=[]\n",
    "    \n",
    "    for key,va in EURO_COINS.items():\n",
    "        if va<1.00:\n",
    "            count+=1\n",
    "            xyz.append(va)\n",
    "    total_amount=sum(xyz)\n",
    "    \n",
    "    \n",
    "         \n",
    "    print(\"------- Coins ------\")\n",
    "    print(\"Count :  {}\".format(count))\n",
    "    print(\"Value :  {:.2f}\".format(total_amount))\n",
    "    \n",
    "#--- Test the def printSmallCoins ---\n",
    "allcoins = [ Coin(v) for v in EURO_COINS.values() ]\n",
    "printSmallCoins( allcoins )\n",
    "\n",
    "\n",
    "### This test must print out the following:\n",
    "## ------- Coins ------\n",
    "## Count :  6\n",
    "## Value :  0.88"
   ]
  },
  {
   "cell_type": "code",
   "execution_count": 88,
   "metadata": {
    "collapsed": false
   },
   "outputs": [
    {
     "name": "stdout",
     "output_type": "stream",
     "text": [
      "------- Coins ------\n",
      "Count :  6\n",
      "Value :  0.88\n"
     ]
    }
   ],
   "source": [
    "### ### \n",
    "### ### \n",
    "### ###  อาจารย์สั่งโจทย์ไม่เข้าใจค่ะ ข้อบนนั้นเข้าใจว่าให้หาจาก euro ที่มีทั้งหมด แต่อันนี้ คือให้เช็คจากไหนคะ แล้วจะไปมีค่าถึง 30 ได้ยังไงคะ\n",
    "### ### \n",
    "### ### \n",
    "\n",
    "\n",
    "#--- Test the def printSmallCoins again ---\n",
    "allcoins  = [ Coin(v) for v in EURO_COINS.values() ] \n",
    "allcoins += [ c if c.value < 1.0 else Coin(0.1) for c in allcoins ] ### c น้อยว่า 1 แล้ว? ถ้ามากกว่า 1 วนfor แล้ว? ให้ทำอะไรคะ\n",
    "allcoins += [ c if c.value < 1.0 else Coin(0.2) for c in allcoins ] ### เมือนกันทั้ง 2 อันต่างแต่สร้างคนละเหรียญ\n",
    "printSmallCoins( allcoins )\n",
    "\n",
    "### อาจารย์คะ ส่วนนี้มีอะไรผิดพลาดรึเปล่า เพราะเหมือนมันไม่มีค่าจะส่งไปดำเนินการให้ค่ามันเพิ่มขึ้นเลยนะคะ\n",
    "\n",
    "\n",
    "### This test must print out the following:\n",
    "## ------- Coins ------\n",
    "## Count :  30\n",
    "## Value :  4.32\n",
    "\n",
    "### ### ### \n",
    "### ### ### \n",
    "### ### ### \n",
    "### ### ### ###  รบกวนอาจารย์เมลกลับมาที่ sr.vasita_st@tni.ac.th ด้วยค่ะ"
   ]
  },
  {
   "cell_type": "code",
   "execution_count": 89,
   "metadata": {
    "collapsed": false
   },
   "outputs": [],
   "source": [
    "### ### ### ###  รบกวนอาจารย์เมลกลับมาที่ sr.vasita_st@tni.ac.th ด้วยค่ะ"
   ]
  },
  {
   "cell_type": "code",
   "execution_count": 90,
   "metadata": {
    "collapsed": false
   },
   "outputs": [],
   "source": [
    "### ### ### ###  รบกวนอาจารย์เมลกลับมาที่ sr.vasita_st@tni.ac.th ด้วยค่ะ"
   ]
  },
  {
   "cell_type": "code",
   "execution_count": 91,
   "metadata": {
    "collapsed": false
   },
   "outputs": [
    {
     "data": {
      "text/plain": [
       "'2017-02-10T05:09:07.324954'"
      ]
     },
     "execution_count": 91,
     "metadata": {},
     "output_type": "execute_result"
    }
   ],
   "source": [
    "import datetime\n",
    "datetime.datetime.now().isoformat()\n",
    "##\n",
    "## 57113024-4:\n",
    "##\n",
    "## แล้วคลิก Run cell ครั้งเดียว เมื่อส่งงาน"
   ]
  },
  {
   "cell_type": "markdown",
   "metadata": {},
   "source": [
    "## end of IPynb"
   ]
  }
 ],
 "metadata": {
  "kernelspec": {
   "display_name": "Python 3",
   "language": "python",
   "name": "python3"
  },
  "language_info": {
   "codemirror_mode": {
    "name": "ipython",
    "version": 3
   },
   "file_extension": ".py",
   "mimetype": "text/x-python",
   "name": "python",
   "nbconvert_exporter": "python",
   "pygments_lexer": "ipython3",
   "version": "3.4.4"
  }
 },
 "nbformat": 4,
 "nbformat_minor": 0
}
